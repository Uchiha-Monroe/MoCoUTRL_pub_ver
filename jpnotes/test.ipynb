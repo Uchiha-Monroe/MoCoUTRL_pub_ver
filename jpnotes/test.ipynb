{
 "cells": [
  {
   "cell_type": "code",
   "execution_count": 1,
   "id": "6739b52d",
   "metadata": {},
   "outputs": [
    {
     "name": "stderr",
     "output_type": "stream",
     "text": [
      "C:\\Users\\jsfz\\anaconda3\\envs\\pytorch17\\lib\\site-packages\\tqdm\\auto.py:22: TqdmWarning: IProgress not found. Please update jupyter and ipywidgets. See https://ipywidgets.readthedocs.io/en/stable/user_install.html\n",
      "  from .autonotebook import tqdm as notebook_tqdm\n"
     ]
    }
   ],
   "source": [
    "import torch\n",
    "from pytorch_metric_learning.losses import NTXentLoss"
   ]
  },
  {
   "cell_type": "code",
   "execution_count": 3,
   "id": "61295337",
   "metadata": {},
   "outputs": [
    {
     "data": {
      "text/plain": [
       "pytorch_metric_learning.losses.ntxent_loss.NTXentLoss"
      ]
     },
     "execution_count": 3,
     "metadata": {},
     "output_type": "execute_result"
    }
   ],
   "source": [
    "NTXentLoss"
   ]
  },
  {
   "cell_type": "code",
   "execution_count": 35,
   "id": "216b46a0",
   "metadata": {},
   "outputs": [],
   "source": [
    "a = torch.randn(3, 4)"
   ]
  },
  {
   "cell_type": "code",
   "execution_count": 36,
   "id": "52bcf061",
   "metadata": {},
   "outputs": [
    {
     "data": {
      "text/plain": [
       "tensor([[ 0.4610,  0.3638, -0.2998, -0.1891],\n",
       "        [ 0.1334,  0.0743, -0.2128, -1.0367],\n",
       "        [ 0.5977,  0.0201,  0.8429,  0.3610]])"
      ]
     },
     "execution_count": 36,
     "metadata": {},
     "output_type": "execute_result"
    }
   ],
   "source": [
    "a"
   ]
  },
  {
   "cell_type": "code",
   "execution_count": 37,
   "id": "39a839bd",
   "metadata": {},
   "outputs": [],
   "source": [
    "embeddings = torch.cat([a, a], dim=0)"
   ]
  },
  {
   "cell_type": "code",
   "execution_count": 38,
   "id": "c17cd296",
   "metadata": {},
   "outputs": [
    {
     "data": {
      "text/plain": [
       "tensor([[ 0.4610,  0.3638, -0.2998, -0.1891],\n",
       "        [ 0.1334,  0.0743, -0.2128, -1.0367],\n",
       "        [ 0.5977,  0.0201,  0.8429,  0.3610],\n",
       "        [ 0.4610,  0.3638, -0.2998, -0.1891],\n",
       "        [ 0.1334,  0.0743, -0.2128, -1.0367],\n",
       "        [ 0.5977,  0.0201,  0.8429,  0.3610]])"
      ]
     },
     "execution_count": 38,
     "metadata": {},
     "output_type": "execute_result"
    }
   ],
   "source": [
    "embeddings"
   ]
  },
  {
   "cell_type": "code",
   "execution_count": 23,
   "id": "84585e29",
   "metadata": {},
   "outputs": [],
   "source": [
    "loss_fn = NTXentLoss()"
   ]
  },
  {
   "cell_type": "code",
   "execution_count": 24,
   "id": "626c3008",
   "metadata": {},
   "outputs": [],
   "source": [
    "from pytorch_metric_learning.utils import loss_and_miner_utils as lmu"
   ]
  },
  {
   "cell_type": "code",
   "execution_count": 39,
   "id": "8b6ec012",
   "metadata": {},
   "outputs": [],
   "source": [
    "labels = torch.arange(3)\n",
    "labels = torch.cat([labels, labels], dim=0)"
   ]
  },
  {
   "cell_type": "code",
   "execution_count": 40,
   "id": "6769e397",
   "metadata": {},
   "outputs": [
    {
     "data": {
      "text/plain": [
       "tensor([0, 1, 2, 0, 1, 2])"
      ]
     },
     "execution_count": 40,
     "metadata": {},
     "output_type": "execute_result"
    }
   ],
   "source": [
    "labels"
   ]
  },
  {
   "cell_type": "code",
   "execution_count": 41,
   "id": "1c8ad5a0",
   "metadata": {},
   "outputs": [],
   "source": [
    "loss = loss_fn(embeddings, labels)"
   ]
  },
  {
   "cell_type": "code",
   "execution_count": 42,
   "id": "71876228",
   "metadata": {},
   "outputs": [
    {
     "data": {
      "text/plain": [
       "tensor(0.0007)"
      ]
     },
     "execution_count": 42,
     "metadata": {},
     "output_type": "execute_result"
    }
   ],
   "source": [
    "loss"
   ]
  },
  {
   "cell_type": "code",
   "execution_count": null,
   "id": "8044d094",
   "metadata": {},
   "outputs": [],
   "source": []
  }
 ],
 "metadata": {
  "kernelspec": {
   "display_name": "Python [conda env:pytorch17] *",
   "language": "python",
   "name": "conda-env-pytorch17-py"
  },
  "language_info": {
   "codemirror_mode": {
    "name": "ipython",
    "version": 3
   },
   "file_extension": ".py",
   "mimetype": "text/x-python",
   "name": "python",
   "nbconvert_exporter": "python",
   "pygments_lexer": "ipython3",
   "version": "3.7.11"
  }
 },
 "nbformat": 4,
 "nbformat_minor": 5
}
